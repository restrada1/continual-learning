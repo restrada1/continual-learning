{
 "cells": [
  {
   "cell_type": "code",
   "execution_count": 1,
   "metadata": {},
   "outputs": [],
   "source": [
    "import pandas as pd"
   ]
  },
  {
   "cell_type": "code",
   "execution_count": 2,
   "metadata": {},
   "outputs": [
    {
     "name": "stdout",
     "output_type": "stream",
     "text": [
      "   batch_idx  skill  caluclated_mse   Accuracy  Actual_Accuracy  Resend_len\n",
      "0       21.0    0.0        0.000441  83.466667             84.0         3.0\n",
      "   batch_idx  skill  caluclated_mse   Accuracy  Actual_Accuracy  Resend_len\n",
      "0      136.0    0.0        0.000004  82.266667             84.0         0.0\n",
      "0      136.0    1.0        0.000005  87.533333             87.0         0.0\n",
      "   batch_idx  skill  caluclated_mse   Accuracy  Actual_Accuracy  Resend_len\n",
      "0       97.0    0.0        0.000022  82.866667             84.0         1.0\n",
      "0       97.0    1.0        0.000029  87.700000             87.0         1.0\n",
      "0       97.0    2.0        0.000028  83.733333             84.0         1.0\n",
      "   batch_idx  skill  caluclated_mse   Accuracy  Actual_Accuracy  Resend_len\n",
      "0        8.0    0.0        0.000018  82.833333             84.0         1.0\n",
      "0        8.0    1.0        0.000014  87.066667             87.0         1.0\n",
      "0        8.0    2.0        0.000043  82.966667             84.0         1.0\n",
      "0        8.0    3.0        0.000050  80.700000             82.0         1.0\n",
      "   batch_idx  skill  caluclated_mse   Accuracy  Actual_Accuracy  Resend_len\n",
      "0       27.0    0.0        0.000033  82.466667             84.0         2.0\n",
      "0       27.0    1.0        0.000028  85.500000             87.0         2.0\n",
      "0       27.0    2.0        0.000026  82.233333             84.0         2.0\n",
      "0       27.0    3.0        0.000030  80.333333             82.0         2.0\n",
      "0       27.0    4.0        0.000053  82.033333             84.0         2.0\n",
      "   batch_idx  skill  caluclated_mse   Accuracy  Actual_Accuracy  Resend_len\n",
      "0      197.0    0.0        0.000005  82.233333             84.0         0.0\n",
      "0      197.0    1.0        0.000011  86.200000             87.0         0.0\n",
      "0      197.0    2.0        0.000006  82.866667             84.0         0.0\n",
      "0      197.0    3.0        0.000004  80.233333             82.0         0.0\n",
      "0      197.0    4.0        0.000003  82.333333             84.0         0.0\n",
      "0      197.0    5.0        0.000004  83.733333             83.0         0.0\n",
      "   batch_idx  skill  caluclated_mse   Accuracy  Actual_Accuracy  Resend_len\n",
      "0      125.0    0.0        0.000004  82.266667             84.0         0.0\n",
      "0      125.0    1.0        0.000003  85.266667             87.0         0.0\n",
      "0      125.0    2.0        0.000002  82.533333             84.0         0.0\n",
      "0      125.0    3.0        0.000004  80.066667             82.0         0.0\n",
      "0      125.0    4.0        0.000004  82.133333             84.0         0.0\n",
      "0      125.0    5.0        0.000003  83.800000             83.0         0.0\n",
      "0      125.0    6.0        0.000005  85.633333             85.0         0.0\n",
      "   batch_idx  skill  caluclated_mse   Accuracy  Actual_Accuracy  Resend_len\n",
      "0       49.0    0.0        0.000006  81.700000             84.0         0.0\n",
      "0       49.0    1.0        0.000006  84.300000             87.0         0.0\n",
      "0       49.0    2.0        0.000003  82.433333             84.0         0.0\n",
      "0       49.0    3.0        0.000005  79.566667             82.0         0.0\n",
      "0       49.0    4.0        0.000013  81.133333             84.0         0.0\n",
      "0       49.0    5.0        0.000011  82.233333             83.0         0.0\n",
      "0       49.0    6.0        0.000017  84.466667             85.0         0.0\n",
      "0       49.0    7.0        0.000010  81.666667             83.0         0.0\n"
     ]
    },
    {
     "ename": "FileNotFoundError",
     "evalue": "File 9_MSE_new_method does not exist",
     "output_type": "error",
     "traceback": [
      "\u001b[0;31m---------------------------------------------------------------------------\u001b[0m",
      "\u001b[0;31mFileNotFoundError\u001b[0m                         Traceback (most recent call last)",
      "\u001b[0;32m<ipython-input-2-ad0d8eeb4181>\u001b[0m in \u001b[0;36m<module>\u001b[0;34m()\u001b[0m\n\u001b[1;32m      1\u001b[0m \u001b[0;32mfor\u001b[0m \u001b[0mi\u001b[0m \u001b[0;32min\u001b[0m \u001b[0mrange\u001b[0m\u001b[0;34m(\u001b[0m\u001b[0;36m1\u001b[0m\u001b[0;34m,\u001b[0m\u001b[0;36m11\u001b[0m\u001b[0;34m)\u001b[0m\u001b[0;34m:\u001b[0m\u001b[0;34m\u001b[0m\u001b[0m\n\u001b[1;32m      2\u001b[0m     \u001b[0mfilename\u001b[0m\u001b[0;34m=\u001b[0m\u001b[0mstr\u001b[0m\u001b[0;34m(\u001b[0m\u001b[0mi\u001b[0m\u001b[0;34m)\u001b[0m\u001b[0;34m+\u001b[0m\u001b[0;34m'_MSE_new_method'\u001b[0m\u001b[0;34m\u001b[0m\u001b[0m\n\u001b[0;32m----> 3\u001b[0;31m     \u001b[0mdf\u001b[0m\u001b[0;34m=\u001b[0m\u001b[0mpd\u001b[0m\u001b[0;34m.\u001b[0m\u001b[0mread_hdf\u001b[0m\u001b[0;34m(\u001b[0m\u001b[0mfilename\u001b[0m\u001b[0;34m)\u001b[0m\u001b[0;34m\u001b[0m\u001b[0m\n\u001b[0m\u001b[1;32m      4\u001b[0m     \u001b[0mprint\u001b[0m\u001b[0;34m(\u001b[0m\u001b[0mdf\u001b[0m\u001b[0;34m.\u001b[0m\u001b[0mtail\u001b[0m\u001b[0;34m(\u001b[0m\u001b[0mi\u001b[0m\u001b[0;34m)\u001b[0m\u001b[0;34m)\u001b[0m\u001b[0;34m\u001b[0m\u001b[0m\n",
      "\u001b[0;32m~/anaconda3/lib/python3.6/site-packages/pandas/io/pytables.py\u001b[0m in \u001b[0;36mread_hdf\u001b[0;34m(path_or_buf, key, mode, **kwargs)\u001b[0m\n\u001b[1;32m    369\u001b[0m         \u001b[0;32mif\u001b[0m \u001b[0;32mnot\u001b[0m \u001b[0mexists\u001b[0m\u001b[0;34m:\u001b[0m\u001b[0;34m\u001b[0m\u001b[0m\n\u001b[1;32m    370\u001b[0m             raise compat.FileNotFoundError(\n\u001b[0;32m--> 371\u001b[0;31m                 'File %s does not exist' % path_or_buf)\n\u001b[0m\u001b[1;32m    372\u001b[0m \u001b[0;34m\u001b[0m\u001b[0m\n\u001b[1;32m    373\u001b[0m         \u001b[0mstore\u001b[0m \u001b[0;34m=\u001b[0m \u001b[0mHDFStore\u001b[0m\u001b[0;34m(\u001b[0m\u001b[0mpath_or_buf\u001b[0m\u001b[0;34m,\u001b[0m \u001b[0mmode\u001b[0m\u001b[0;34m=\u001b[0m\u001b[0mmode\u001b[0m\u001b[0;34m,\u001b[0m \u001b[0;34m**\u001b[0m\u001b[0mkwargs\u001b[0m\u001b[0;34m)\u001b[0m\u001b[0;34m\u001b[0m\u001b[0m\n",
      "\u001b[0;31mFileNotFoundError\u001b[0m: File 9_MSE_new_method does not exist"
     ]
    }
   ],
   "source": [
    "for i in range(1,11):\n",
    "    filename=str(i)+'_MSE_new_method'\n",
    "    df=pd.read_hdf(filename)\n",
    "    print(df.tail(i))"
   ]
  },
  {
   "cell_type": "code",
   "execution_count": null,
   "metadata": {},
   "outputs": [],
   "source": []
  }
 ],
 "metadata": {
  "kernelspec": {
   "display_name": "Python 3",
   "language": "python",
   "name": "python3"
  },
  "language_info": {
   "codemirror_mode": {
    "name": "ipython",
    "version": 3
   },
   "file_extension": ".py",
   "mimetype": "text/x-python",
   "name": "python",
   "nbconvert_exporter": "python",
   "pygments_lexer": "ipython3",
   "version": "3.6.5"
  }
 },
 "nbformat": 4,
 "nbformat_minor": 2
}
