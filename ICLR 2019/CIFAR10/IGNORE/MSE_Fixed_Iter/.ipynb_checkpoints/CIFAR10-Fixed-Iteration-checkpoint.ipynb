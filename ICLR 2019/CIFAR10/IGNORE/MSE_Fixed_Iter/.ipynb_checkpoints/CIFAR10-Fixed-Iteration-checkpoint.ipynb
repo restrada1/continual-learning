{
 "cells": [
  {
   "cell_type": "code",
   "execution_count": 1,
   "metadata": {},
   "outputs": [],
   "source": [
    "import pandas as pd"
   ]
  },
  {
   "cell_type": "code",
   "execution_count": 10,
   "metadata": {},
   "outputs": [
    {
     "name": "stdout",
     "output_type": "stream",
     "text": [
      "   batch_idx  skill  caluclated_mse  Accuracy  Actual_Accuracy  Resend_len\n",
      "0       99.0    0.0        0.000043      84.2             84.0         0.0\n",
      "   batch_idx  skill  caluclated_mse   Accuracy  Actual_Accuracy  Resend_len\n",
      "0       99.0    0.0    7.192996e-07  84.466667             84.0         0.0\n",
      "0       99.0    1.0    4.015847e-06  88.466667             88.0         0.0\n",
      "   batch_idx  skill  caluclated_mse   Accuracy  Actual_Accuracy  Resend_len\n",
      "0       99.0    0.0        0.000005  84.900000             84.0         0.0\n",
      "0       99.0    1.0        0.000006  88.233333             88.0         0.0\n",
      "0       99.0    2.0        0.000004  84.833333             85.0         0.0\n",
      "   batch_idx  skill  caluclated_mse  Accuracy  Actual_Accuracy  Resend_len\n",
      "0       99.0    0.0        0.000034      85.3             84.0         2.0\n",
      "0       99.0    1.0        0.000019      87.3             88.0         2.0\n",
      "0       99.0    2.0        0.000036      84.9             85.0         2.0\n",
      "0       99.0    3.0        0.000044      81.9             81.0         2.0\n",
      "   batch_idx  skill  caluclated_mse   Accuracy  Actual_Accuracy  Resend_len\n",
      "0       99.0    0.0        0.000004  84.600000             84.0         0.0\n",
      "0       99.0    1.0        0.000007  86.666667             88.0         0.0\n",
      "0       99.0    2.0        0.000010  84.533333             85.0         0.0\n",
      "0       99.0    3.0        0.000005  82.200000             81.0         0.0\n",
      "0       99.0    4.0        0.000005  80.733333             80.0         0.0\n",
      "   batch_idx  skill  caluclated_mse   Accuracy  Actual_Accuracy  Resend_len\n",
      "0       99.0    0.0        0.000008  83.866667             84.0         0.0\n",
      "0       99.0    1.0        0.000014  85.866667             88.0         0.0\n",
      "0       99.0    2.0        0.000015  83.233333             85.0         0.0\n",
      "0       99.0    3.0        0.000015  82.166667             81.0         0.0\n",
      "0       99.0    4.0        0.000009  80.700000             80.0         0.0\n",
      "0       99.0    5.0        0.000011  83.700000             83.0         0.0\n",
      "   batch_idx  skill  caluclated_mse   Accuracy  Actual_Accuracy  Resend_len\n",
      "0       99.0    0.0        0.000012  83.800000             84.0         0.0\n",
      "0       99.0    1.0        0.000009  84.833333             88.0         0.0\n",
      "0       99.0    2.0        0.000012  83.433333             85.0         0.0\n",
      "0       99.0    3.0        0.000014  82.233333             81.0         0.0\n",
      "0       99.0    4.0        0.000019  80.466667             80.0         0.0\n",
      "0       99.0    5.0        0.000013  82.066667             83.0         0.0\n",
      "0       99.0    6.0        0.000024  87.633333             87.0         0.0\n",
      "   batch_idx  skill  caluclated_mse   Accuracy  Actual_Accuracy  Resend_len\n",
      "0       99.0    0.0        0.000015  84.366667             84.0         2.0\n",
      "0       99.0    1.0        0.000016  84.666667             88.0         2.0\n",
      "0       99.0    2.0        0.000022  82.966667             85.0         2.0\n",
      "0       99.0    3.0        0.000015  82.166667             81.0         2.0\n",
      "0       99.0    4.0        0.000017  78.000000             80.0         2.0\n",
      "0       99.0    5.0        0.000017  81.400000             83.0         2.0\n",
      "0       99.0    6.0        0.000022  87.100000             87.0         2.0\n",
      "0       99.0    7.0        0.000025  86.366667             86.0         2.0\n",
      "   batch_idx  skill  caluclated_mse   Accuracy  Actual_Accuracy  Resend_len\n",
      "0       99.0    0.0        0.000009  83.000000             84.0         0.0\n",
      "0       99.0    1.0        0.000003  84.566667             88.0         0.0\n",
      "0       99.0    2.0        0.000003  82.700000             85.0         0.0\n",
      "0       99.0    3.0        0.000003  81.933333             81.0         0.0\n",
      "0       99.0    4.0        0.000003  79.100000             80.0         0.0\n",
      "0       99.0    5.0        0.000011  80.733333             83.0         0.0\n",
      "0       99.0    6.0        0.000009  85.633333             87.0         0.0\n",
      "0       99.0    7.0        0.000016  85.933333             86.0         0.0\n",
      "0       99.0    8.0        0.000011  85.466667             86.0         0.0\n"
     ]
    }
   ],
   "source": [
    "for i in range(1,10):\n",
    "    filename=str(i)+'_MSE_fixed_iter'\n",
    "    df=pd.read_hdf(filename)\n",
    "    print(df.tail(i))"
   ]
  },
  {
   "cell_type": "code",
   "execution_count": null,
   "metadata": {},
   "outputs": [],
   "source": [
    "1_MSE_fixed_iter"
   ]
  }
 ],
 "metadata": {
  "kernelspec": {
   "display_name": "Python 3",
   "language": "python",
   "name": "python3"
  },
  "language_info": {
   "codemirror_mode": {
    "name": "ipython",
    "version": 3
   },
   "file_extension": ".py",
   "mimetype": "text/x-python",
   "name": "python",
   "nbconvert_exporter": "python",
   "pygments_lexer": "ipython3",
   "version": "3.6.5"
  }
 },
 "nbformat": 4,
 "nbformat_minor": 2
}
