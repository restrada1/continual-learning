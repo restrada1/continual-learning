{
 "cells": [
  {
   "cell_type": "code",
   "execution_count": 18,
   "metadata": {},
   "outputs": [],
   "source": [
    "import pandas as pd"
   ]
  },
  {
   "cell_type": "code",
   "execution_count": 30,
   "metadata": {},
   "outputs": [
    {
     "name": "stdout",
     "output_type": "stream",
     "text": [
      "   batch_idx  skill  caluclated_mse  Accuracy  Actual_Accuracy  Resend_len\n",
      "0       16.0    0.0        0.000217      46.1             48.0         0.0\n",
      "   batch_idx  skill  caluclated_mse  Accuracy  Actual_Accuracy  Resend_len\n",
      "0       12.0    1.0        0.000255      45.2             47.0         0.0\n",
      "   batch_idx  skill  caluclated_mse  Accuracy  Actual_Accuracy  Resend_len\n",
      "0       66.0    2.0        0.000029      55.2             56.0         0.0\n",
      "   batch_idx  skill  caluclated_mse  Accuracy  Actual_Accuracy  Resend_len\n",
      "0       88.0    3.0        0.000022      46.1             45.0         0.0\n",
      "   batch_idx  skill  caluclated_mse  Accuracy  Actual_Accuracy  Resend_len\n",
      "0       35.0    4.0        0.000024      49.2             50.0         0.0\n",
      "   batch_idx  skill  caluclated_mse  Accuracy  Actual_Accuracy  Resend_len\n",
      "0      299.0    5.0        0.000016      50.6             50.0         0.0\n",
      "   batch_idx  skill  caluclated_mse  Accuracy  Actual_Accuracy  Resend_len\n",
      "0      299.0    6.0        0.000015      56.2             57.0         0.0\n",
      "   batch_idx  skill  caluclated_mse  Accuracy  Actual_Accuracy  Resend_len\n",
      "0      299.0    7.0        0.000065      53.4             54.0         0.0\n",
      "   batch_idx  skill  caluclated_mse  Accuracy  Actual_Accuracy  Resend_len\n",
      "0      299.0    8.0        0.000008      46.8             48.0         0.0\n",
      "   batch_idx  skill  caluclated_mse  Accuracy  Actual_Accuracy  Resend_len\n",
      "0      299.0    9.0        0.000004      58.9             59.0         0.0\n"
     ]
    }
   ],
   "source": [
    "\n",
    "for i in range(1,11):\n",
    "    filename='MSE/'+str(i)+'_MSE_final'\n",
    "    df=pd.read_hdf(filename)\n",
    "    print(df.tail(1))"
   ]
  },
  {
   "cell_type": "code",
   "execution_count": 31,
   "metadata": {},
   "outputs": [
    {
     "name": "stdout",
     "output_type": "stream",
     "text": [
      "   batch_idx  skill  caluclated_mse  Accuracy  Actual_Accuracy  Resend_len\n",
      "0       15.0    0.0        0.000173      45.9             48.0         0.0\n",
      "   batch_idx  skill  caluclated_mse  Accuracy  Actual_Accuracy  Resend_len\n",
      "0       19.0    0.0        0.000029      45.5             48.0         1.0\n",
      "0       19.0    1.0        0.000287      41.2             44.0         1.0\n",
      "   batch_idx  skill  caluclated_mse  Accuracy  Actual_Accuracy  Resend_len\n",
      "0       29.0    0.0        0.000015      45.2             48.0         0.0\n",
      "0       29.0    1.0        0.000027      42.7             44.0         0.0\n",
      "0       29.0    2.0        0.000069      56.4             55.0         0.0\n",
      "   batch_idx  skill  caluclated_mse  Accuracy  Actual_Accuracy  Resend_len\n",
      "0       43.0    0.0        0.000018      45.1             48.0         1.0\n",
      "0       43.0    1.0        0.000007      42.0             44.0         1.0\n",
      "0       43.0    2.0        0.000029      56.6             55.0         1.0\n",
      "0       43.0    3.0        0.000219      43.6             44.0         1.0\n",
      "   batch_idx  skill  caluclated_mse  Accuracy  Actual_Accuracy  Resend_len\n",
      "0       40.0    0.0        0.000158      45.4             48.0         0.0\n",
      "0       40.0    1.0        0.000020      41.8             44.0         0.0\n",
      "0       40.0    2.0        0.000058      53.3             55.0         0.0\n",
      "0       40.0    3.0        0.000029      41.7             44.0         0.0\n",
      "0       40.0    4.0        0.000103      47.5             44.0         0.0\n",
      "   batch_idx  skill  caluclated_mse  Accuracy  Actual_Accuracy  Resend_len\n",
      "0       93.0    0.0        0.000063      45.7             48.0         0.0\n",
      "0       93.0    1.0        0.000017      42.6             44.0         0.0\n",
      "0       93.0    2.0        0.000028      52.1             55.0         0.0\n",
      "0       93.0    3.0        0.000032      42.1             44.0         0.0\n",
      "0       93.0    4.0        0.000033      46.7             44.0         0.0\n",
      "0       93.0    5.0        0.000081      51.7             52.0         0.0\n",
      "   batch_idx  skill  caluclated_mse  Accuracy  Actual_Accuracy  Resend_len\n",
      "0      206.0    0.0        0.000005      45.8             48.0         0.0\n",
      "0      206.0    1.0        0.000002      42.3             44.0         0.0\n",
      "0      206.0    2.0        0.000005      52.1             55.0         0.0\n",
      "0      206.0    3.0        0.000006      42.2             44.0         0.0\n",
      "0      206.0    4.0        0.000002      46.3             44.0         0.0\n",
      "0      206.0    5.0        0.000012      50.5             52.0         0.0\n",
      "0      206.0    6.0        0.000003      54.6             55.0         0.0\n",
      "   batch_idx  skill  caluclated_mse  Accuracy  Actual_Accuracy  Resend_len\n",
      "0       30.0    0.0        0.000004      45.1             48.0         0.0\n",
      "0       30.0    1.0        0.000003      41.1             44.0         0.0\n",
      "0       30.0    2.0        0.000007      52.6             55.0         0.0\n",
      "0       30.0    3.0        0.000011      42.0             44.0         0.0\n",
      "0       30.0    4.0        0.000005      45.3             44.0         0.0\n",
      "0       30.0    5.0        0.000013      50.1             52.0         0.0\n",
      "0       30.0    6.0        0.000007      54.8             55.0         0.0\n",
      "0       30.0    7.0        0.000092      53.6             56.0         0.0\n",
      "   batch_idx  skill  caluclated_mse  Accuracy  Actual_Accuracy  Resend_len\n",
      "0      101.0    0.0        0.000010      45.4             48.0         0.0\n",
      "0      101.0    1.0        0.000005      41.5             44.0         0.0\n",
      "0      101.0    2.0        0.000011      52.2             55.0         0.0\n",
      "0      101.0    3.0        0.000010      42.8             44.0         0.0\n",
      "0      101.0    4.0        0.000012      45.5             44.0         0.0\n",
      "0      101.0    5.0        0.000036      49.3             52.0         0.0\n",
      "0      101.0    6.0        0.000007      54.0             55.0         0.0\n",
      "0      101.0    7.0        0.000013      53.1             56.0         0.0\n",
      "0      101.0    8.0        0.000014      49.7             50.0         0.0\n",
      "   batch_idx  skill  caluclated_mse  Accuracy  Actual_Accuracy  Resend_len\n",
      "0      299.0    0.0        0.000049      40.7             48.0         1.0\n",
      "0      299.0    1.0        0.000019      40.6             44.0         1.0\n",
      "0      299.0    2.0        0.000012      51.9             55.0         1.0\n",
      "0      299.0    3.0        0.000031      40.6             44.0         1.0\n",
      "0      299.0    4.0        0.000034      43.4             44.0         1.0\n",
      "0      299.0    5.0        0.000058      47.7             52.0         1.0\n",
      "0      299.0    6.0        0.000008      53.8             55.0         1.0\n",
      "0      299.0    7.0        0.000019      54.7             56.0         1.0\n",
      "0      299.0    8.0        0.000033      48.8             50.0         1.0\n",
      "0      299.0    9.0        0.000218      58.7             59.0         1.0\n"
     ]
    }
   ],
   "source": [
    "\n",
    "for i in range(1,11):\n",
    "    filename='MSE/'+str(i)+'_MSE_acc-2'\n",
    "    df=pd.read_hdf(filename)\n",
    "    print(df.tail(i))"
   ]
  },
  {
   "cell_type": "code",
   "execution_count": null,
   "metadata": {},
   "outputs": [],
   "source": []
  }
 ],
 "metadata": {
  "kernelspec": {
   "display_name": "Python 3",
   "language": "python",
   "name": "python3"
  },
  "language_info": {
   "codemirror_mode": {
    "name": "ipython",
    "version": 3
   },
   "file_extension": ".py",
   "mimetype": "text/x-python",
   "name": "python",
   "nbconvert_exporter": "python",
   "pygments_lexer": "ipython3",
   "version": "3.6.5"
  }
 },
 "nbformat": 4,
 "nbformat_minor": 2
}
